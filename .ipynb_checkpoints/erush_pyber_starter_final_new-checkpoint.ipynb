{
 "cells": [
  {
   "cell_type": "code",
   "execution_count": 1,
   "metadata": {},
   "outputs": [
    {
     "data": {
      "text/html": [
       "<div>\n",
       "<style scoped>\n",
       "    .dataframe tbody tr th:only-of-type {\n",
       "        vertical-align: middle;\n",
       "    }\n",
       "\n",
       "    .dataframe tbody tr th {\n",
       "        vertical-align: top;\n",
       "    }\n",
       "\n",
       "    .dataframe thead th {\n",
       "        text-align: right;\n",
       "    }\n",
       "</style>\n",
       "<table border=\"1\" class=\"dataframe\">\n",
       "  <thead>\n",
       "    <tr style=\"text-align: right;\">\n",
       "      <th></th>\n",
       "      <th>city</th>\n",
       "      <th>date</th>\n",
       "      <th>fare</th>\n",
       "      <th>ride_id</th>\n",
       "      <th>driver_count</th>\n",
       "      <th>type</th>\n",
       "    </tr>\n",
       "  </thead>\n",
       "  <tbody>\n",
       "    <tr>\n",
       "      <th>0</th>\n",
       "      <td>Lake Jonathanshire</td>\n",
       "      <td>2018-01-14 10:14:22</td>\n",
       "      <td>13.83</td>\n",
       "      <td>5739410935873</td>\n",
       "      <td>5</td>\n",
       "      <td>Urban</td>\n",
       "    </tr>\n",
       "    <tr>\n",
       "      <th>1</th>\n",
       "      <td>South Michelleport</td>\n",
       "      <td>2018-03-04 18:24:09</td>\n",
       "      <td>30.24</td>\n",
       "      <td>2343912425577</td>\n",
       "      <td>72</td>\n",
       "      <td>Urban</td>\n",
       "    </tr>\n",
       "    <tr>\n",
       "      <th>2</th>\n",
       "      <td>Port Samanthamouth</td>\n",
       "      <td>2018-02-24 04:29:00</td>\n",
       "      <td>33.44</td>\n",
       "      <td>2005065760003</td>\n",
       "      <td>57</td>\n",
       "      <td>Urban</td>\n",
       "    </tr>\n",
       "    <tr>\n",
       "      <th>3</th>\n",
       "      <td>Rodneyfort</td>\n",
       "      <td>2018-02-10 23:22:03</td>\n",
       "      <td>23.44</td>\n",
       "      <td>5149245426178</td>\n",
       "      <td>34</td>\n",
       "      <td>Urban</td>\n",
       "    </tr>\n",
       "    <tr>\n",
       "      <th>4</th>\n",
       "      <td>South Jack</td>\n",
       "      <td>2018-03-06 04:28:35</td>\n",
       "      <td>34.58</td>\n",
       "      <td>3908451377344</td>\n",
       "      <td>46</td>\n",
       "      <td>Urban</td>\n",
       "    </tr>\n",
       "  </tbody>\n",
       "</table>\n",
       "</div>"
      ],
      "text/plain": [
       "                 city                 date   fare        ride_id  \\\n",
       "0  Lake Jonathanshire  2018-01-14 10:14:22  13.83  5739410935873   \n",
       "1  South Michelleport  2018-03-04 18:24:09  30.24  2343912425577   \n",
       "2  Port Samanthamouth  2018-02-24 04:29:00  33.44  2005065760003   \n",
       "3          Rodneyfort  2018-02-10 23:22:03  23.44  5149245426178   \n",
       "4          South Jack  2018-03-06 04:28:35  34.58  3908451377344   \n",
       "\n",
       "   driver_count   type  \n",
       "0             5  Urban  \n",
       "1            72  Urban  \n",
       "2            57  Urban  \n",
       "3            34  Urban  \n",
       "4            46  Urban  "
      ]
     },
     "execution_count": 1,
     "metadata": {},
     "output_type": "execute_result"
    }
   ],
   "source": [
    "%matplotlib inline\n",
    "# Dependencies and Setup\n",
    "import matplotlib.pyplot as plt\n",
    "import pandas as pd\n",
    "import numpy as np\n",
    "\n",
    "# File to Load (Remember to change these)\n",
    "city_data_to_load = \"data/city_data.csv\"\n",
    "ride_data_to_load = \"data/ride_data.csv\"\n",
    "\n",
    "# Read the City and Ride Data\n",
    "city_data = pd.read_csv(city_data_to_load)\n",
    "ride_data = pd.read_csv(ride_data_to_load)\n",
    "\n",
    "# Combine the data into a single dataset\n",
    "pyber_merge = pd.merge(ride_data, city_data, on=[\"city\", \"city\"], how=\"left\")\n",
    "pyber_merge_df = pd.DataFrame(pyber_merge)\n",
    "\n",
    "pyber_merge[\"fare\"] = pd.to_numeric(pyber_merge[\"fare\"])\n",
    "\n",
    "# Display the data table for preview\n",
    "pyber_merge.head()\n"
   ]
  },
  {
   "cell_type": "raw",
   "metadata": {
    "scrolled": true
   },
   "source": []
  },
  {
   "cell_type": "markdown",
   "metadata": {},
   "source": [
    "## Bubble Plot of Ride Sharing Data"
   ]
  },
  {
   "cell_type": "code",
   "execution_count": 6,
   "metadata": {},
   "outputs": [
    {
     "ename": "SyntaxError",
     "evalue": "invalid syntax (<ipython-input-6-5cc8480460ee>, line 36)",
     "output_type": "error",
     "traceback": [
      "\u001b[1;36m  File \u001b[1;32m\"<ipython-input-6-5cc8480460ee>\"\u001b[1;36m, line \u001b[1;32m36\u001b[0m\n\u001b[1;33m    \"plt.savefig(\"Images/ride_sharing_bubble_plot.png\", bbox_inches=\"tight\")\"\u001b[0m\n\u001b[1;37m                       ^\u001b[0m\n\u001b[1;31mSyntaxError\u001b[0m\u001b[1;31m:\u001b[0m invalid syntax\n"
     ]
    }
   ],
   "source": [
    "# # Obtain the x and y coordinates for each of the three city types\n",
    "urban_df = pyber_merge.loc[pyber_merge[\"type\"] == \"Urban\", :]\n",
    "urban_ride_count = urban_df.groupby([\"city\"]).count()[\"ride_id\"]\n",
    "urban_fares = urban_df.groupby([\"city\"])[\"fare\"].sum()/urban_ride_count\n",
    "urban_drivers = urban_df.groupby([\"city\"])[\"driver_count\"].mean()\n",
    "\n",
    "suburban_df = pyber_merge.loc[pyber_merge[\"type\"] == \"Suburban\", :]\n",
    "suburban_ride_count = suburban_df.groupby([\"city\"]).count()[\"ride_id\"]\n",
    "suburban_fares = suburban_df.groupby([\"city\"])[\"fare\"].sum()/suburban_ride_count\n",
    "suburban_drivers = suburban_df.groupby([\"city\"])[\"driver_count\"].mean()\n",
    "\n",
    "rural_df = pyber_merge.loc[pyber_merge[\"type\"] == \"Rural\", :]\n",
    "rural_ride_count = rural_df.groupby([\"city\"])[\"ride_id\"].count()\n",
    "rural_fares = rural_df.groupby([\"city\"])[\"fare\"].sum()/rural_ride_count\n",
    "rural_drivers = rural_df.groupby([\"city\"])[\"driver_count\"].mean()\n",
    "\n",
    "# # Build the scatter plots for each city types\n",
    "plt.scatter(urban_ride_count, urban_fares, marker=\"o\", s=urban_drivers*10, facecolors=\"lightcoral\", edgecolors=\"lightcoral\", alpha=0.75, label=\"Urban\")\n",
    "plt.scatter(suburban_ride_count, suburban_fares, marker=\"o\", s=suburban_drivers*10, facecolors=\"lightskyblue\", edgecolors=\"lightskyblue\", alpha=0.75, label=\"Suburban\")\n",
    "plt.scatter(rural_ride_count, rural_fares, marker=\"o\", s=rural_drivers*10, facecolors=\"gold\", edgecolors=\"gold\", alpha=0.75, label=\"Rural\")\n",
    "\n",
    "# # Incorporate the other graph properties\n",
    "plt.grid(True)\n",
    "plt.xlabel(\"Total Number of Rides (Per City)\")\n",
    "plt.ylabel(\"Average Fare ($)\")\n",
    "plt.title(\"Pyber Ride Sharing Data\")\n",
    "\n",
    "# # Create a legend\n",
    "plt.legend(loc=\"best\")\n",
    "\n",
    "# # Incorporate a text label regarding circle size\n",
    "plt.text(58,35, \"Note: Circle size correlates with driver count per city\", ha=\"center\", va=\"top\")\n",
    "\n",
    "\n",
    "# Save Figure\n",
    "\"plt.savefig(\"Images/ride_sharing_bubble_plot.png\", bbox_inches=\"tight\")\""
   ]
  },
  {
   "cell_type": "code",
   "execution_count": 333,
   "metadata": {},
   "outputs": [],
   "source": [
    "# Show plot\n",
    "plt.show()"
   ]
  },
  {
   "cell_type": "markdown",
   "metadata": {},
   "source": [
    "Limitations:\n",
    "1. These graphs do not take into account: unique riders, unique drivers, population of the cities, average car ownership, availability of mass transit, availability of cellular service, or ownership/use of smartphones, among other relevant data points. \n",
    "\n",
    "Observations:\n",
    "1. Assuming fares are calculated in the same way (i.e. flat rate per mile or that rate changes are applied equally), urban riders tend to take shorter rides, while rural riders take longer rides. This could be due to the lower density and greater sprawl of rural areas. "
   ]
  },
  {
   "cell_type": "markdown",
   "metadata": {},
   "source": [
    "## Total Fares by City Type"
   ]
  },
  {
   "cell_type": "code",
   "execution_count": 334,
   "metadata": {},
   "outputs": [
    {
     "data": {
      "text/plain": [
       "<function matplotlib.pyplot.show(*args, **kw)>"
      ]
     },
     "execution_count": 334,
     "metadata": {},
     "output_type": "execute_result"
    },
    {
     "data": {
      "image/png": "[encoded data removed]",
      "text/plain": [
       "<Figure size 432x288 with 1 Axes>"
      ]
     },
     "metadata": {},
     "output_type": "display_data"
    }
   ],
   "source": [
    "# Calculate Type Percents\n",
    "city_type_fare = pyber_merge.groupby([\"type\"])[\"fare\"].sum()\n",
    "explode = (0, 0, 0.1)\n",
    "colors = [\"gold\", \"lightskyblue\", \"lightcoral\"]\n",
    "labels = [\"Rural\", \"Suburban\", \"Urban\"]\n",
    "\n",
    "#Build Pie Chart\n",
    "plt.title(\"% of Total Fares by City Type\")\n",
    "plt.pie(city_type_fare, explode=explode, labels=labels, colors=colors, autopct=\"%1.1f%%\", shadow=True, startangle=300)\n",
    "\n",
    "# Save Figure\n",
    "plt.savefig(\"Images/total_fares_by_city_type.png\")\n",
    "plt.show"
   ]
  },
  {
   "cell_type": "code",
   "execution_count": 335,
   "metadata": {},
   "outputs": [],
   "source": [
    "# Show Figure\n",
    "plt.show()"
   ]
  },
  {
   "cell_type": "markdown",
   "metadata": {},
   "source": [
    "## Total Rides by City Type"
   ]
  },
  {
   "cell_type": "code",
   "execution_count": 336,
   "metadata": {},
   "outputs": [
    {
     "data": {
      "text/plain": [
       "([<matplotlib.patches.Wedge at 0x186149f3eb8>,\n",
       "  <matplotlib.patches.Wedge at 0x186149fa940>,\n",
       "  <matplotlib.patches.Wedge at 0x186149d0320>],\n",
       " [Text(1.0301623657919177, -0.38570130944294095, 'Rural'),\n",
       "  Text(0.8863415953607173, 0.6514588063211816, 'Suburban'),\n",
       "  Text(-1.0707050316062863, -0.5418401381339166, 'Urban')],\n",
       " [Text(0.5619067449774096, -0.2103825324234223, '5.3%'),\n",
       "  Text(0.48345905201493666, 0.3553411670842808, '26.3%'),\n",
       "  Text(-0.6245779351036669, -0.31607341391145133, '68.4%')])"
      ]
     },
     "execution_count": 336,
     "metadata": {},
     "output_type": "execute_result"
    },
    {
     "data": {
      "image/png": "[encoded data removed]",
      "text/plain": [
       "<Figure size 432x288 with 1 Axes>"
      ]
     },
     "metadata": {},
     "output_type": "display_data"
    }
   ],
   "source": [
    "# Calculate Ride Percents\n",
    "city_rides = pyber_merge.groupby([\"type\"])[\"fare\"].count()\n",
    "explode = (0, 0, 0.1)\n",
    "colors = [\"gold\", \"lightskyblue\", \"lightcoral\"]\n",
    "labels = [\"Rural\", \"Suburban\", \"Urban\"]\n",
    "\n",
    "#Build Pie Chart\n",
    "plt.title(\"% of Total Rides by City Type\")\n",
    "plt.pie(city_rides, explode=explode, labels=labels, colors=colors, autopct=\"%1.1f%%\", shadow=True, startangle=330)\n",
    "\n",
    "# Save Figure\n",
    "plt.savefig(\"../Images/total_rides_by_city_type.png\")"
   ]
  },
  {
   "cell_type": "code",
   "execution_count": 71,
   "metadata": {},
   "outputs": [],
   "source": [
    "# Show Figure\n",
    "plt.show()"
   ]
  },
  {
   "cell_type": "markdown",
   "metadata": {},
   "source": [
    "Observations:\n",
    "2. City-for-city, there are substantially more rides taken in urban areas than suburban and rural combined. Given the limitations listed above, it is difficult to surmise why this might be the case. "
   ]
  },
  {
   "cell_type": "markdown",
   "metadata": {},
   "source": [
    "## Total Drivers by City Type"
   ]
  },
  {
   "cell_type": "code",
   "execution_count": 355,
   "metadata": {},
   "outputs": [
    {
     "data": {
      "image/png": "[encoded data removed]",
      "text/plain": [
       "<Figure size 432x288 with 1 Axes>"
      ]
     },
     "metadata": {},
     "output_type": "display_data"
    }
   ],
   "source": [
    "# Calculate Type Percents\n",
    "drivers_by_city = city_data.groupby([\"type\"])[\"driver_count\"].sum()\n",
    "explode = (0.1, 0.1, 0.1)\n",
    "colors = [\"gold\", \"lightskyblue\", \"lightcoral\"]\n",
    "labels = [\"Rural\", \"Suburban\", \"Urban\"]\n",
    "\n",
    "#Build Pie Charts\n",
    "plt.title(\"% of Total Drivers by City Type\")\n",
    "plt.pie(drivers_by_city, labels=labels, colors=colors, pctdistance=0.55, autopct=\"%1.1f%%\", startangle=330)\n",
    "\n",
    "#Make it a donut to lower the ink ratio.\n",
    "center_circle = plt.Circle((0,0),0.70, fc='white',linewidth=1.25)\n",
    "fig = plt.gcf()\n",
    "fig.gca().add_artist(center_circle)\n",
    "plt.axis(\"equal\")\n",
    "plt.tight_layout()\n",
    "# Save Figure\n",
    "plt.savefig(\"Images/total_drivers_by_city_type.png\")"
   ]
  },
  {
   "cell_type": "code",
   "execution_count": 73,
   "metadata": {
    "scrolled": true
   },
   "outputs": [],
   "source": [
    "# Show Figure\n",
    "plt.show()"
   ]
  },
  {
   "cell_type": "markdown",
   "metadata": {},
   "source": [
    "Observations:\n",
    "3. Most drivers operate in urban areas. Since the percent of rides doesn't correlate to this, that suggests that generally urban drivers log fewer rides. \n",
    "4. Looking at the Ratio DataFrame below, on average rural drivers bring in more than twice as much in fares as durban drivers, which suggests a saturation in the urban market. "
   ]
  },
  {
   "cell_type": "code",
   "execution_count": 365,
   "metadata": {},
   "outputs": [
    {
     "data": {
      "text/html": [
       "<div>\n",
       "<style scoped>\n",
       "    .dataframe tbody tr th:only-of-type {\n",
       "        vertical-align: middle;\n",
       "    }\n",
       "\n",
       "    .dataframe tbody tr th {\n",
       "        vertical-align: top;\n",
       "    }\n",
       "\n",
       "    .dataframe thead th {\n",
       "        text-align: right;\n",
       "    }\n",
       "</style>\n",
       "<table border=\"1\" class=\"dataframe\">\n",
       "  <thead>\n",
       "    <tr style=\"text-align: right;\">\n",
       "      <th></th>\n",
       "      <th>Ride/Driver Ratio</th>\n",
       "      <th>Fare/Driver Ratio</th>\n",
       "    </tr>\n",
       "    <tr>\n",
       "      <th>type</th>\n",
       "      <th></th>\n",
       "      <th></th>\n",
       "    </tr>\n",
       "  </thead>\n",
       "  <tbody>\n",
       "    <tr>\n",
       "      <th>Rural</th>\n",
       "      <td>1.60</td>\n",
       "      <td>55.49</td>\n",
       "    </tr>\n",
       "    <tr>\n",
       "      <th>Suburban</th>\n",
       "      <td>1.28</td>\n",
       "      <td>39.50</td>\n",
       "    </tr>\n",
       "    <tr>\n",
       "      <th>Urban</th>\n",
       "      <td>0.68</td>\n",
       "      <td>16.57</td>\n",
       "    </tr>\n",
       "  </tbody>\n",
       "</table>\n",
       "</div>"
      ],
      "text/plain": [
       "          Ride/Driver Ratio  Fare/Driver Ratio\n",
       "type                                          \n",
       "Rural                  1.60              55.49\n",
       "Suburban               1.28              39.50\n",
       "Urban                  0.68              16.57"
      ]
     },
     "execution_count": 365,
     "metadata": {},
     "output_type": "execute_result"
    }
   ],
   "source": [
    "sum_fare = pyber_merge.groupby([\"type\"])[\"fare\"].sum()\n",
    "\n",
    "ride_to_driver_ratio = round(city_rides/drivers_by_city,2)\n",
    "fare_to_driver_ratio = round(sum_fare/drivers_by_city, 2)\n",
    "\n",
    "ratio_df = ride_to_driver_ratio.to_frame(name=\"Ride/Driver Ratio\").join(fare_to_driver_ratio.to_frame(name=\"Fare/Driver Ratio\"))\n",
    "ratio_df"
   ]
  },
  {
   "cell_type": "code",
   "execution_count": null,
   "metadata": {},
   "outputs": [],
   "source": []
  }
 ],
 "metadata": {
  "anaconda-cloud": {},
  "kernelspec": {
   "display_name": "Python 3",
   "language": "python",
   "name": "python3"
  },
  "language_info": {
   "codemirror_mode": {
    "name": "ipython",
    "version": 3
   },
   "file_extension": ".py",
   "mimetype": "text/x-python",
   "name": "python",
   "nbconvert_exporter": "python",
   "pygments_lexer": "ipython3",
   "version": "3.7.0"
  }
 },
 "nbformat": 4,
 "nbformat_minor": 2
}
